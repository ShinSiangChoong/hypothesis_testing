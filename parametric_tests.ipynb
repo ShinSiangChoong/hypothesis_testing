{
 "cells": [
  {
   "cell_type": "code",
   "execution_count": 34,
   "id": "2bc290ed",
   "metadata": {},
   "outputs": [],
   "source": [
    "import pandas as pd\n",
    "import numpy as np\n",
    "import pingouin as pg\n",
    "from scipy import stats\n",
    "from statsmodels.stats import weightstats as ws\n",
    "from pydataset import data"
   ]
  },
  {
   "cell_type": "code",
   "execution_count": 35,
   "id": "7329bc61",
   "metadata": {},
   "outputs": [],
   "source": [
    "df = data('iris')"
   ]
  },
  {
   "cell_type": "markdown",
   "id": "318543dd",
   "metadata": {},
   "source": [
    "# T-test\n",
    "\n",
    "Assumptions: Independent samples are taken from a normal distribution. In this case, the normalized version of $\\bar{X}$ using the sample standard deviation $S$ instead of the population standard deviation $\\sigma$ follows the $t$-distribution with $n-1$ Degree of Freedom (dof).\n",
    "- It is robust to the normality assumption\n",
    "\n",
    "Test statistic: $T=\\frac{\\bar{X}-\\mu_0}{S/\\sqrt{n}}$\n",
    "\n"
   ]
  },
  {
   "cell_type": "markdown",
   "id": "c8cc27c7",
   "metadata": {},
   "source": [
    "## 1-sample *t*-test\n",
    "\n",
    "Population: Sepal.Length of all 3 species (without differentiation among species).\n",
    "- $H_0$: $\\mu=5$\n",
    "- $H_a$: $\\mu\\neq5$"
   ]
  },
  {
   "cell_type": "code",
   "execution_count": 44,
   "id": "380a8a8d",
   "metadata": {
    "scrolled": true
   },
   "outputs": [
    {
     "data": {
      "text/html": [
       "<div>\n",
       "<style scoped>\n",
       "    .dataframe tbody tr th:only-of-type {\n",
       "        vertical-align: middle;\n",
       "    }\n",
       "\n",
       "    .dataframe tbody tr th {\n",
       "        vertical-align: top;\n",
       "    }\n",
       "\n",
       "    .dataframe thead th {\n",
       "        text-align: right;\n",
       "    }\n",
       "</style>\n",
       "<table border=\"1\" class=\"dataframe\">\n",
       "  <thead>\n",
       "    <tr style=\"text-align: right;\">\n",
       "      <th></th>\n",
       "      <th>T</th>\n",
       "      <th>dof</th>\n",
       "      <th>tail</th>\n",
       "      <th>p-val</th>\n",
       "      <th>CI95%</th>\n",
       "      <th>cohen-d</th>\n",
       "      <th>BF10</th>\n",
       "      <th>power</th>\n",
       "    </tr>\n",
       "  </thead>\n",
       "  <tbody>\n",
       "    <tr>\n",
       "      <th>T-test</th>\n",
       "      <td>12.473257</td>\n",
       "      <td>149</td>\n",
       "      <td>two-sided</td>\n",
       "      <td>6.670742e-25</td>\n",
       "      <td>[5.71, 5.98]</td>\n",
       "      <td>1.018437</td>\n",
       "      <td>5.88e+21</td>\n",
       "      <td>1.0</td>\n",
       "    </tr>\n",
       "  </tbody>\n",
       "</table>\n",
       "</div>"
      ],
      "text/plain": [
       "                T  dof       tail         p-val         CI95%   cohen-d  \\\n",
       "T-test  12.473257  149  two-sided  6.670742e-25  [5.71, 5.98]  1.018437   \n",
       "\n",
       "            BF10  power  \n",
       "T-test  5.88e+21    1.0  "
      ]
     },
     "execution_count": 44,
     "metadata": {},
     "output_type": "execute_result"
    }
   ],
   "source": [
    "pg.ttest(\n",
    "    x=df['Sepal.Length'], \n",
    "    y=5, \n",
    "    paired=False,\n",
    "    tail='two-sided', #'greater', 'less'\n",
    "    correction='auto', #True, False\n",
    "    confidence=0.95\n",
    ")"
   ]
  },
  {
   "cell_type": "markdown",
   "id": "25d2dfad",
   "metadata": {},
   "source": [
    "## 2-sample *t*-test\n",
    "\n",
    "- Population 1: Sepal.Length of setosa\n",
    "- Population 2: Sepal.Length of versicolor\n",
    "- $H_0$: $D_0 = \\mu_1 − \\mu_2 = 0$\n",
    "- $H_a$: $D_a = \\mu_1 − \\mu_2 \\neq 0$"
   ]
  },
  {
   "cell_type": "code",
   "execution_count": 53,
   "id": "40dae836",
   "metadata": {
    "scrolled": true
   },
   "outputs": [
    {
     "data": {
      "text/html": [
       "<div>\n",
       "<style scoped>\n",
       "    .dataframe tbody tr th:only-of-type {\n",
       "        vertical-align: middle;\n",
       "    }\n",
       "\n",
       "    .dataframe tbody tr th {\n",
       "        vertical-align: top;\n",
       "    }\n",
       "\n",
       "    .dataframe thead th {\n",
       "        text-align: right;\n",
       "    }\n",
       "</style>\n",
       "<table border=\"1\" class=\"dataframe\">\n",
       "  <thead>\n",
       "    <tr style=\"text-align: right;\">\n",
       "      <th></th>\n",
       "      <th>T</th>\n",
       "      <th>dof</th>\n",
       "      <th>tail</th>\n",
       "      <th>p-val</th>\n",
       "      <th>CI95%</th>\n",
       "      <th>cohen-d</th>\n",
       "      <th>BF10</th>\n",
       "      <th>power</th>\n",
       "    </tr>\n",
       "  </thead>\n",
       "  <tbody>\n",
       "    <tr>\n",
       "      <th>T-test</th>\n",
       "      <td>-10.520986</td>\n",
       "      <td>98</td>\n",
       "      <td>two-sided</td>\n",
       "      <td>8.985235e-18</td>\n",
       "      <td>[-1.11, -0.75]</td>\n",
       "      <td>2.104197</td>\n",
       "      <td>4.19e+14</td>\n",
       "      <td>1.0</td>\n",
       "    </tr>\n",
       "  </tbody>\n",
       "</table>\n",
       "</div>"
      ],
      "text/plain": [
       "                T  dof       tail         p-val           CI95%   cohen-d  \\\n",
       "T-test -10.520986   98  two-sided  8.985235e-18  [-1.11, -0.75]  2.104197   \n",
       "\n",
       "            BF10  power  \n",
       "T-test  4.19e+14    1.0  "
      ]
     },
     "execution_count": 53,
     "metadata": {},
     "output_type": "execute_result"
    }
   ],
   "source": [
    "pg.ttest(\n",
    "    x=df.loc[df['Species']=='setosa','Sepal.Length'], \n",
    "    y=df.loc[df['Species']=='versicolor','Sepal.Length'],\n",
    "    paired=False, # True for paired samples\n",
    "    tail='two-sided', #'greater', 'less'\n",
    "    correction='auto', #True, False\n",
    "    confidence=0.95\n",
    ")"
   ]
  },
  {
   "cell_type": "markdown",
   "id": "f6cf5835",
   "metadata": {},
   "source": [
    "# *Z*-Test\n",
    "\n",
    "Assumptions: When sample size is large, the distribution of sample mean $(\\bar{X})$ is approximately normal with\n",
    "- $E(\\bar{X}) = \\mu$ \n",
    "- $Var(\\bar{X}) = \\sigma^2/n$\n",
    "\n",
    "Test statistic: $Z=\\frac{\\bar{X}-\\mu_0}{\\sigma/\\sqrt{N}}$"
   ]
  },
  {
   "cell_type": "markdown",
   "id": "bf7b6695",
   "metadata": {},
   "source": [
    "## 1-sample *Z*-test\n",
    "\n",
    "Population: Sepal.Length of all 3 species (without differentiation among species).\n",
    "- $H_0$: $\\mu=5$\n",
    "- $H_a$: $\\mu\\neq5$"
   ]
  },
  {
   "cell_type": "code",
   "execution_count": 36,
   "id": "78bee5fa",
   "metadata": {
    "scrolled": false
   },
   "outputs": [
    {
     "name": "stdout",
     "output_type": "stream",
     "text": [
      "z-stat: 0.04930141164702255 p-value: 1.0446696695008141e-35\n"
     ]
    }
   ],
   "source": [
    "zstat, pval = ws.ztest(\n",
    "    x1=df['Sepal.Length'], \n",
    "    x2=None, \n",
    "    value=5,\n",
    "    alternative='two-sided' #'larger', 'smaller'\n",
    ")\n",
    "print(\"z-stat:\", ztest, \"p-value:\", pval)"
   ]
  },
  {
   "cell_type": "markdown",
   "id": "d1080cab",
   "metadata": {},
   "source": [
    "## 2-sample *Z*-test\n",
    "\n",
    "- Population 1: Sepal.Length of setosa\n",
    "- Population 2: Sepal.Length of versicolor\n",
    "- $H_0$: $D_0 = \\mu_1 − \\mu_2 = 0$\n",
    "- $H_a$: $D_a = \\mu_1 − \\mu_2 \\neq 0$"
   ]
  },
  {
   "cell_type": "code",
   "execution_count": 37,
   "id": "7b67aef4",
   "metadata": {},
   "outputs": [
    {
     "name": "stdout",
     "output_type": "stream",
     "text": [
      "z-stat: 0.04930141164702255 p-value: 6.914595261207391e-26\n"
     ]
    }
   ],
   "source": [
    "zstat, pval = ws.ztest(\n",
    "    x1 = df.loc[df['Species']=='setosa','Sepal.Length'], \n",
    "    x2 = df.loc[df['Species']=='versicolor','Sepal.Length'],\n",
    "    value = 0,\n",
    "    alternative = 'two-sided' #'larger', 'smaller'\n",
    ")\n",
    "print(\"z-stat:\", ztest, \"p-value:\", pval)"
   ]
  },
  {
   "cell_type": "markdown",
   "id": "261d0894",
   "metadata": {},
   "source": [
    "# Chi-Square test"
   ]
  },
  {
   "cell_type": "markdown",
   "id": "d424fdab",
   "metadata": {},
   "source": [
    "## Hypotheses Concerning a Population Variance\n",
    "\n",
    "- Assumption: Independent samples are taken from a normal distribution. In this case, $\\chi^2 = \\frac{(n-1)S^2}{\\sigma^2}$\n",
    "    - not robust to the normality assumption\n",
    "- Test Statistic: $\\chi^2 = \\frac{(n-1)S^2}{\\sigma_0^2}$\n",
    "- Population: Sepal.Length of all 3 species (without differentiation among species).\n",
    "- $H_0$: $\\sigma=0.6857$\n",
    "- $H_a$: $\\sigma\\neq0.6857$"
   ]
  },
  {
   "cell_type": "code",
   "execution_count": 216,
   "id": "babeb22a",
   "metadata": {},
   "outputs": [],
   "source": [
    "def calculate_chi2_stat(x, var0):\n",
    "    return (len(x)-1)*np.var(x)/var0\n",
    "\n",
    "def var_test(x, var0, tail='two-sided'):\n",
    "    chi2_stat = calculate_chi2_stat(x, var0)\n",
    "    left_p = stats.chi2.cdf(chi2_stat, df=len(x)-1) # P(chi2<=chi2_stat)\n",
    "    if tail=='greater':\n",
    "        return chi2_stat, 1-left_p\n",
    "    if tail=='less':\n",
    "        return chi2_stat, left_p\n",
    "    else:\n",
    "        return chi2_stat, (left_p if left_p<0.5 else 1-left_p) / 2"
   ]
  },
  {
   "cell_type": "code",
   "execution_count": 217,
   "id": "55be0d01",
   "metadata": {
    "scrolled": true
   },
   "outputs": [
    {
     "data": {
      "text/plain": [
       "(101.48721111111111, 0.0005252940518779105)"
      ]
     },
     "execution_count": 217,
     "metadata": {},
     "output_type": "execute_result"
    }
   ],
   "source": [
    "var_test(\n",
    "    x = df['Sepal.Length'], \n",
    "    var0 = 1,\n",
    "    tail='two-sided'\n",
    ")"
   ]
  },
  {
   "cell_type": "markdown",
   "id": "cc2822be",
   "metadata": {},
   "source": [
    "## Comparison of Two Variances\n",
    "\n",
    "- Assumption: Independent samples are taken from a normal distribution. In this case: $F = \\frac{(n-1)S_1^2/\\sigma_1^2}{(n-1)S_2^2/\\sigma_2^2} = \\frac{S_1^2/\\sigma_1^2}{S_2^2/\\sigma_2^2}$\n",
    "    - not robust to the normality assumption\n",
    "- Test Statistic: $F = \\frac{S_1^2}{S_2^2}$\n",
    "\n",
    "- Population 1: Sepal.Length of setosa\n",
    "- Population 2: Sepal.Length of versicolor\n",
    "- $H_0$: $\\sigma_1=\\sigma_2$\n",
    "- $H_a$: $\\sigma_1\\neq\\sigma_2$"
   ]
  },
  {
   "cell_type": "code",
   "execution_count": 222,
   "id": "38e97a22",
   "metadata": {},
   "outputs": [],
   "source": [
    "def var_F_test(x, y, tail='two-sided'):\n",
    "    f_stat = np.var(x)/np.var(y)\n",
    "    left_p = stats.f.cdf(f_stat, dfn=len(x)-1, dfd=len(y)-1) # P(chi2<=chi2_stat)\n",
    "    if tail=='greater':\n",
    "        return f_stat, 1-left_p\n",
    "    if tail=='less':\n",
    "        return f_stat, left_p\n",
    "    else:\n",
    "        return f_stat, (left_p if left_p<0.5 else 1-left_p) / 2"
   ]
  },
  {
   "cell_type": "code",
   "execution_count": 223,
   "id": "676e669c",
   "metadata": {},
   "outputs": [
    {
     "data": {
      "text/plain": [
       "(0.4663429131686986, 0.002164297090674954)"
      ]
     },
     "execution_count": 223,
     "metadata": {},
     "output_type": "execute_result"
    }
   ],
   "source": [
    "var_F_test(\n",
    "    x = df.loc[df['Species']=='setosa','Sepal.Length'], \n",
    "    y = df.loc[df['Species']=='versicolor','Sepal.Length'],\n",
    "    tail = 'two-tail'\n",
    ")"
   ]
  }
 ],
 "metadata": {
  "kernelspec": {
   "display_name": "Python 3",
   "language": "python",
   "name": "python3"
  },
  "language_info": {
   "codemirror_mode": {
    "name": "ipython",
    "version": 3
   },
   "file_extension": ".py",
   "mimetype": "text/x-python",
   "name": "python",
   "nbconvert_exporter": "python",
   "pygments_lexer": "ipython3",
   "version": "3.8.8"
  }
 },
 "nbformat": 4,
 "nbformat_minor": 5
}
