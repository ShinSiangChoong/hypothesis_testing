{
 "cells": [
  {
   "cell_type": "code",
   "execution_count": 34,
   "id": "4aa52034",
   "metadata": {},
   "outputs": [],
   "source": [
    "import pandas as pd\n",
    "import numpy as np\n",
    "import pingouin as pg\n",
    "from scipy import stats\n",
    "from statsmodels.stats import weightstats as ws\n",
    "from pydataset import data"
   ]
  },
  {
   "cell_type": "code",
   "execution_count": 35,
   "id": "8142bab2",
   "metadata": {},
   "outputs": [],
   "source": [
    "df = data('iris')"
   ]
  },
  {
   "cell_type": "markdown",
   "id": "0a6f7a0b",
   "metadata": {},
   "source": [
    "# T-test\n",
    "\n",
    "Assumptions: The population that samples are taken is approximately normal. In this case, the normalized version of $\\bar{X}$ using the sample standard deviation $S$ instead of the population standard deviation $\\sigma$ follows the $t$-distribution with $n-1$ Degree of Freedom (dof).\n",
    "- It is robust to the normality assumption\n",
    "\n",
    "Test statistic: $T=\\frac{\\bar{X}-\\mu_0}{S/\\sqrt{n}}$\n",
    "\n"
   ]
  },
  {
   "cell_type": "markdown",
   "id": "4337871f",
   "metadata": {},
   "source": [
    "## 1-sample *t*-test\n",
    "\n",
    "Population: Sepal.Length of all 3 species (without differentiation among species).\n",
    "- $H_0$: $\\mu=5$\n",
    "- $H_a$: $\\mu\\neq5$"
   ]
  },
  {
   "cell_type": "code",
   "execution_count": 44,
   "id": "39555012",
   "metadata": {
    "scrolled": true
   },
   "outputs": [
    {
     "data": {
      "text/html": [
       "<div>\n",
       "<style scoped>\n",
       "    .dataframe tbody tr th:only-of-type {\n",
       "        vertical-align: middle;\n",
       "    }\n",
       "\n",
       "    .dataframe tbody tr th {\n",
       "        vertical-align: top;\n",
       "    }\n",
       "\n",
       "    .dataframe thead th {\n",
       "        text-align: right;\n",
       "    }\n",
       "</style>\n",
       "<table border=\"1\" class=\"dataframe\">\n",
       "  <thead>\n",
       "    <tr style=\"text-align: right;\">\n",
       "      <th></th>\n",
       "      <th>T</th>\n",
       "      <th>dof</th>\n",
       "      <th>tail</th>\n",
       "      <th>p-val</th>\n",
       "      <th>CI95%</th>\n",
       "      <th>cohen-d</th>\n",
       "      <th>BF10</th>\n",
       "      <th>power</th>\n",
       "    </tr>\n",
       "  </thead>\n",
       "  <tbody>\n",
       "    <tr>\n",
       "      <th>T-test</th>\n",
       "      <td>12.473257</td>\n",
       "      <td>149</td>\n",
       "      <td>two-sided</td>\n",
       "      <td>6.670742e-25</td>\n",
       "      <td>[5.71, 5.98]</td>\n",
       "      <td>1.018437</td>\n",
       "      <td>5.88e+21</td>\n",
       "      <td>1.0</td>\n",
       "    </tr>\n",
       "  </tbody>\n",
       "</table>\n",
       "</div>"
      ],
      "text/plain": [
       "                T  dof       tail         p-val         CI95%   cohen-d  \\\n",
       "T-test  12.473257  149  two-sided  6.670742e-25  [5.71, 5.98]  1.018437   \n",
       "\n",
       "            BF10  power  \n",
       "T-test  5.88e+21    1.0  "
      ]
     },
     "execution_count": 44,
     "metadata": {},
     "output_type": "execute_result"
    }
   ],
   "source": [
    "pg.ttest(\n",
    "    x=df['Sepal.Length'], \n",
    "    y=5, \n",
    "    paired=False,\n",
    "    tail='two-sided', #'greater', 'less'\n",
    "    correction='auto', #True, False\n",
    "    confidence=0.95\n",
    ")"
   ]
  },
  {
   "cell_type": "markdown",
   "id": "3ce3503a",
   "metadata": {},
   "source": [
    "## 2-sample *t*-test\n",
    "\n",
    "- Population 1: Sepal.Length of setosa\n",
    "- Population 2: Sepal.Length of versicolor\n",
    "- $H_0$: $D_0 = \\mu_1 − \\mu_2 = 0$\n",
    "- $H_a$: $D_a = \\mu_1 − \\mu_2 \\neq 0$"
   ]
  },
  {
   "cell_type": "code",
   "execution_count": 53,
   "id": "90e9770e",
   "metadata": {
    "scrolled": true
   },
   "outputs": [
    {
     "data": {
      "text/html": [
       "<div>\n",
       "<style scoped>\n",
       "    .dataframe tbody tr th:only-of-type {\n",
       "        vertical-align: middle;\n",
       "    }\n",
       "\n",
       "    .dataframe tbody tr th {\n",
       "        vertical-align: top;\n",
       "    }\n",
       "\n",
       "    .dataframe thead th {\n",
       "        text-align: right;\n",
       "    }\n",
       "</style>\n",
       "<table border=\"1\" class=\"dataframe\">\n",
       "  <thead>\n",
       "    <tr style=\"text-align: right;\">\n",
       "      <th></th>\n",
       "      <th>T</th>\n",
       "      <th>dof</th>\n",
       "      <th>tail</th>\n",
       "      <th>p-val</th>\n",
       "      <th>CI95%</th>\n",
       "      <th>cohen-d</th>\n",
       "      <th>BF10</th>\n",
       "      <th>power</th>\n",
       "    </tr>\n",
       "  </thead>\n",
       "  <tbody>\n",
       "    <tr>\n",
       "      <th>T-test</th>\n",
       "      <td>-10.520986</td>\n",
       "      <td>98</td>\n",
       "      <td>two-sided</td>\n",
       "      <td>8.985235e-18</td>\n",
       "      <td>[-1.11, -0.75]</td>\n",
       "      <td>2.104197</td>\n",
       "      <td>4.19e+14</td>\n",
       "      <td>1.0</td>\n",
       "    </tr>\n",
       "  </tbody>\n",
       "</table>\n",
       "</div>"
      ],
      "text/plain": [
       "                T  dof       tail         p-val           CI95%   cohen-d  \\\n",
       "T-test -10.520986   98  two-sided  8.985235e-18  [-1.11, -0.75]  2.104197   \n",
       "\n",
       "            BF10  power  \n",
       "T-test  4.19e+14    1.0  "
      ]
     },
     "execution_count": 53,
     "metadata": {},
     "output_type": "execute_result"
    }
   ],
   "source": [
    "pg.ttest(\n",
    "    x=df.loc[df['Species']=='setosa','Sepal.Length'], \n",
    "    y=df.loc[df['Species']=='versicolor','Sepal.Length'],\n",
    "    paired=False, # True for paired samples\n",
    "    tail='two-sided', #'greater', 'less'\n",
    "    correction='auto', #True, False\n",
    "    confidence=0.95\n",
    ")"
   ]
  },
  {
   "cell_type": "markdown",
   "id": "b30676b7",
   "metadata": {},
   "source": [
    "# *Z*-Test\n",
    "\n",
    "Assumptions: When sample size is large, the distribution of sample mean $(\\bar{X})$ is approximately normal with\n",
    "- $E(\\bar{X}) = \\mu$ \n",
    "- $Var(\\bar{X}) = \\sigma^2/n$\n",
    "- where $\\mu$ and $\\sigma^2$ are the population mean and variance, respectively.\n",
    "\n",
    "Test statistic: $Z=\\frac{\\bar{X}-\\mu_0}{\\sigma/\\sqrt{N}}$"
   ]
  },
  {
   "cell_type": "markdown",
   "id": "82f4aea7",
   "metadata": {},
   "source": [
    "## 1-sample *Z*-test\n",
    "\n",
    "Population: Sepal.Length of all 3 species (without differentiation among species).\n",
    "- $H_0$: $\\mu=5$\n",
    "- $H_a$: $\\mu\\neq5$"
   ]
  },
  {
   "cell_type": "code",
   "execution_count": 36,
   "id": "72f8ad4e",
   "metadata": {
    "scrolled": false
   },
   "outputs": [
    {
     "name": "stdout",
     "output_type": "stream",
     "text": [
      "z-stat: 0.04930141164702255 p-value: 1.0446696695008141e-35\n"
     ]
    }
   ],
   "source": [
    "zstat, pval = ws.ztest(\n",
    "    x1=df['Sepal.Length'], \n",
    "    x2=None, \n",
    "    value=5,\n",
    "    alternative='two-sided' #'larger', 'smaller'\n",
    ")\n",
    "print(\"z-stat:\", ztest, \"p-value:\", pval)"
   ]
  },
  {
   "cell_type": "markdown",
   "id": "373b8074",
   "metadata": {},
   "source": [
    "## 2-sample *Z*-test\n",
    "\n",
    "- Population 1: Sepal.Length of setosa\n",
    "- Population 2: Sepal.Length of versicolor\n",
    "- $H_0$: $D_0 = \\mu_1 − \\mu_2 = 0$\n",
    "- $H_a$: $D_a = \\mu_1 − \\mu_2 \\neq 0$"
   ]
  },
  {
   "cell_type": "code",
   "execution_count": 37,
   "id": "48ced64a",
   "metadata": {},
   "outputs": [
    {
     "name": "stdout",
     "output_type": "stream",
     "text": [
      "z-stat: 0.04930141164702255 p-value: 6.914595261207391e-26\n"
     ]
    }
   ],
   "source": [
    "zstat, pval = ws.ztest(\n",
    "    x1=df.loc[df['Species']=='setosa','Sepal.Length'], \n",
    "    x2=df.loc[df['Species']=='versicolor','Sepal.Length'],\n",
    "    value=0,\n",
    "    alternative='two-sided' #'larger', 'smaller'\n",
    ")\n",
    "print(\"z-stat:\", ztest, \"p-value:\", pval)"
   ]
  }
 ],
 "metadata": {
  "kernelspec": {
   "display_name": "Python 3",
   "language": "python",
   "name": "python3"
  },
  "language_info": {
   "codemirror_mode": {
    "name": "ipython",
    "version": 3
   },
   "file_extension": ".py",
   "mimetype": "text/x-python",
   "name": "python",
   "nbconvert_exporter": "python",
   "pygments_lexer": "ipython3",
   "version": "3.8.8"
  }
 },
 "nbformat": 4,
 "nbformat_minor": 5
}
