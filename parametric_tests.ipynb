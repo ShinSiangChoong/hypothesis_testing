{
 "cells": [
  {
   "cell_type": "code",
   "execution_count": 1,
   "id": "c4184d6d",
   "metadata": {},
   "outputs": [],
   "source": [
    "import pandas as pd\n",
    "import numpy as np\n",
    "import pingouin as pg\n",
    "from scipy import stats\n",
    "from statsmodels.stats import weightstats as ws\n",
    "from pydataset import data"
   ]
  },
  {
   "cell_type": "code",
   "execution_count": 2,
   "id": "0af4a746",
   "metadata": {},
   "outputs": [],
   "source": [
    "df = data('iris')"
   ]
  },
  {
   "cell_type": "markdown",
   "id": "c1540865",
   "metadata": {},
   "source": [
    "# T-test\n",
    "\n",
    "Assumptions: Independent samples are taken from a normal distribution. In this case, the normalized version of $\\bar{X}$ using the sample standard deviation $S$ instead of the population standard deviation $\\sigma$ follows the $t$-distribution with $n-1$ Degree of Freedom (dof).\n",
    "- It is robust to the normality assumption\n",
    "\n",
    "Test statistic: $T=\\frac{\\bar{X}-\\mu_0}{S/\\sqrt{n}}$\n",
    "\n"
   ]
  },
  {
   "cell_type": "markdown",
   "id": "5577a908",
   "metadata": {},
   "source": [
    "## 1-sample *t*-test\n",
    "\n",
    "Population: Sepal.Length of all 3 species (without differentiation among species).\n",
    "- $H_0$: $\\mu=5$\n",
    "- $H_a$: $\\mu\\neq5$"
   ]
  },
  {
   "cell_type": "code",
   "execution_count": 3,
   "id": "f9007d4d",
   "metadata": {
    "scrolled": true
   },
   "outputs": [
    {
     "data": {
      "text/html": [
       "<div>\n",
       "<style scoped>\n",
       "    .dataframe tbody tr th:only-of-type {\n",
       "        vertical-align: middle;\n",
       "    }\n",
       "\n",
       "    .dataframe tbody tr th {\n",
       "        vertical-align: top;\n",
       "    }\n",
       "\n",
       "    .dataframe thead th {\n",
       "        text-align: right;\n",
       "    }\n",
       "</style>\n",
       "<table border=\"1\" class=\"dataframe\">\n",
       "  <thead>\n",
       "    <tr style=\"text-align: right;\">\n",
       "      <th></th>\n",
       "      <th>T</th>\n",
       "      <th>dof</th>\n",
       "      <th>tail</th>\n",
       "      <th>p-val</th>\n",
       "      <th>CI95%</th>\n",
       "      <th>cohen-d</th>\n",
       "      <th>BF10</th>\n",
       "      <th>power</th>\n",
       "    </tr>\n",
       "  </thead>\n",
       "  <tbody>\n",
       "    <tr>\n",
       "      <th>T-test</th>\n",
       "      <td>12.473257</td>\n",
       "      <td>149</td>\n",
       "      <td>two-sided</td>\n",
       "      <td>6.670742e-25</td>\n",
       "      <td>[5.71, 5.98]</td>\n",
       "      <td>1.018437</td>\n",
       "      <td>5.88e+21</td>\n",
       "      <td>1.0</td>\n",
       "    </tr>\n",
       "  </tbody>\n",
       "</table>\n",
       "</div>"
      ],
      "text/plain": [
       "                T  dof       tail         p-val         CI95%   cohen-d  \\\n",
       "T-test  12.473257  149  two-sided  6.670742e-25  [5.71, 5.98]  1.018437   \n",
       "\n",
       "            BF10  power  \n",
       "T-test  5.88e+21    1.0  "
      ]
     },
     "execution_count": 3,
     "metadata": {},
     "output_type": "execute_result"
    }
   ],
   "source": [
    "pg.ttest(\n",
    "    x=df['Sepal.Length'], \n",
    "    y=5, \n",
    "    paired=False,\n",
    "    tail='two-sided', #'greater', 'less'\n",
    "    correction='auto', #True, False\n",
    "    confidence=0.95\n",
    ")"
   ]
  },
  {
   "cell_type": "markdown",
   "id": "349c6b85",
   "metadata": {},
   "source": [
    "## 2-sample *t*-test\n",
    "\n",
    "- Population 1: Sepal.Length of setosa\n",
    "- Population 2: Sepal.Length of versicolor\n",
    "- $H_0$: $D_0 = \\mu_1 − \\mu_2 = 0$\n",
    "- $H_a$: $D_a = \\mu_1 − \\mu_2 \\neq 0$"
   ]
  },
  {
   "cell_type": "code",
   "execution_count": 4,
   "id": "3d0758ca",
   "metadata": {
    "scrolled": true
   },
   "outputs": [
    {
     "data": {
      "text/html": [
       "<div>\n",
       "<style scoped>\n",
       "    .dataframe tbody tr th:only-of-type {\n",
       "        vertical-align: middle;\n",
       "    }\n",
       "\n",
       "    .dataframe tbody tr th {\n",
       "        vertical-align: top;\n",
       "    }\n",
       "\n",
       "    .dataframe thead th {\n",
       "        text-align: right;\n",
       "    }\n",
       "</style>\n",
       "<table border=\"1\" class=\"dataframe\">\n",
       "  <thead>\n",
       "    <tr style=\"text-align: right;\">\n",
       "      <th></th>\n",
       "      <th>T</th>\n",
       "      <th>dof</th>\n",
       "      <th>tail</th>\n",
       "      <th>p-val</th>\n",
       "      <th>CI95%</th>\n",
       "      <th>cohen-d</th>\n",
       "      <th>BF10</th>\n",
       "      <th>power</th>\n",
       "    </tr>\n",
       "  </thead>\n",
       "  <tbody>\n",
       "    <tr>\n",
       "      <th>T-test</th>\n",
       "      <td>-10.520986</td>\n",
       "      <td>98</td>\n",
       "      <td>two-sided</td>\n",
       "      <td>8.985235e-18</td>\n",
       "      <td>[-1.11, -0.75]</td>\n",
       "      <td>2.104197</td>\n",
       "      <td>4.19e+14</td>\n",
       "      <td>1.0</td>\n",
       "    </tr>\n",
       "  </tbody>\n",
       "</table>\n",
       "</div>"
      ],
      "text/plain": [
       "                T  dof       tail         p-val           CI95%   cohen-d  \\\n",
       "T-test -10.520986   98  two-sided  8.985235e-18  [-1.11, -0.75]  2.104197   \n",
       "\n",
       "            BF10  power  \n",
       "T-test  4.19e+14    1.0  "
      ]
     },
     "execution_count": 4,
     "metadata": {},
     "output_type": "execute_result"
    }
   ],
   "source": [
    "pg.ttest(\n",
    "    x=df.loc[df['Species']=='setosa','Sepal.Length'], \n",
    "    y=df.loc[df['Species']=='versicolor','Sepal.Length'],\n",
    "    paired=False, # True for paired samples\n",
    "    tail='two-sided', #'greater', 'less'\n",
    "    correction='auto', #True, False\n",
    "    confidence=0.95\n",
    ")"
   ]
  },
  {
   "cell_type": "markdown",
   "id": "b8bf1563",
   "metadata": {},
   "source": [
    "# *Z*-Test\n",
    "\n",
    "Assumptions: When sample size is large, the distribution of sample mean $(\\bar{X})$ is approximately normal with\n",
    "- $E(\\bar{X}) = \\mu$ \n",
    "- $Var(\\bar{X}) = \\sigma^2/n$\n",
    "\n",
    "Test statistic: $Z=\\frac{\\bar{X}-\\mu_0}{\\sigma/\\sqrt{n}}$"
   ]
  },
  {
   "cell_type": "markdown",
   "id": "10c08964",
   "metadata": {},
   "source": [
    "## 1-sample *Z*-test\n",
    "\n",
    "Population: Sepal.Length of all 3 species (without differentiation among species).\n",
    "- $H_0$: $\\mu=5$\n",
    "- $H_a$: $\\mu\\neq5$"
   ]
  },
  {
   "cell_type": "code",
   "execution_count": 5,
   "id": "1877b398",
   "metadata": {
    "scrolled": true
   },
   "outputs": [
    {
     "name": "stdout",
     "output_type": "stream",
     "text": [
      "z-stat: 0.6409183514112012 p-value: 0.5215757321117633\n"
     ]
    }
   ],
   "source": [
    "zstat, pval = ws.ztest(\n",
    "    x1=df['Sepal.Length'], \n",
    "    x2=None, \n",
    "    value=5.8,\n",
    "    alternative='two-sided' #'larger', 'smaller'\n",
    ")\n",
    "print(\"z-stat:\", zstat, \"p-value:\", pval)"
   ]
  },
  {
   "cell_type": "markdown",
   "id": "3fddf5a1",
   "metadata": {},
   "source": [
    "## 2-sample *Z*-test\n",
    "\n",
    "- Population 1: Sepal.Length of setosa\n",
    "- Population 2: Sepal.Length of versicolor\n",
    "- $H_0$: $D_0 = \\mu_1 − \\mu_2 = 0$\n",
    "- $H_a$: $D_a = \\mu_1 − \\mu_2 \\neq 0$"
   ]
  },
  {
   "cell_type": "code",
   "execution_count": 7,
   "id": "dfb78f84",
   "metadata": {},
   "outputs": [
    {
     "name": "stdout",
     "output_type": "stream",
     "text": [
      "z-stat: -10.52098626754911 p-value: 6.914595261207391e-26\n"
     ]
    }
   ],
   "source": [
    "zstat, pval = ws.ztest(\n",
    "    x1 = df.loc[df['Species']=='setosa','Sepal.Length'], \n",
    "    x2 = df.loc[df['Species']=='versicolor','Sepal.Length'],\n",
    "    value = 0,\n",
    "    alternative = 'two-sided' #'larger', 'smaller'\n",
    ")\n",
    "print(\"z-stat:\", zstat, \"p-value:\", pval)"
   ]
  },
  {
   "cell_type": "markdown",
   "id": "4f4c8d9c",
   "metadata": {},
   "source": [
    "# Chi-Square test"
   ]
  },
  {
   "cell_type": "markdown",
   "id": "43673ac4",
   "metadata": {},
   "source": [
    "## Hypotheses Concerning a Population Variance\n",
    "\n",
    "- Assumption: Independent samples are taken from a normal distribution. In this case, $\\chi^2 = \\frac{(n-1)S^2}{\\sigma^2}$\n",
    "    - not robust to the normality assumption\n",
    "- Test Statistic: $\\chi^2 = \\frac{(n-1)S^2}{\\sigma_0^2}$\n",
    "- Population: Sepal.Length of all 3 species (without differentiation among species).\n",
    "- $H_0$: $\\sigma=0.6857$\n",
    "- $H_a$: $\\sigma\\neq0.6857$"
   ]
  },
  {
   "cell_type": "code",
   "execution_count": 9,
   "id": "40fe6734",
   "metadata": {},
   "outputs": [],
   "source": [
    "def calculate_chi2_stat(x, var0):\n",
    "    return (len(x)-1)*np.var(x)/var0\n",
    "\n",
    "def var_test(x, var0, tail='two-sided'):\n",
    "    chi2_stat = calculate_chi2_stat(x, var0)\n",
    "    left_p = stats.chi2.cdf(chi2_stat, df=len(x)-1) # P(X<=x)\n",
    "    if tail=='greater':\n",
    "        return chi2_stat, 1-left_p\n",
    "    if tail=='less':\n",
    "        return chi2_stat, left_p\n",
    "    else:\n",
    "        return chi2_stat, (left_p if left_p<0.5 else 1-left_p) * 2"
   ]
  },
  {
   "cell_type": "code",
   "execution_count": 10,
   "id": "05a26017",
   "metadata": {
    "scrolled": true
   },
   "outputs": [
    {
     "name": "stdout",
     "output_type": "stream",
     "text": [
      "chi2-stat: 101.48721111111111 p-value: 0.002101176207511642\n"
     ]
    }
   ],
   "source": [
    "chi2_stat, pval = var_test(\n",
    "    x = df['Sepal.Length'], \n",
    "    var0 = 1,\n",
    "    tail='two-sided'\n",
    ")\n",
    "print(\"chi2-stat:\", chi2_stat, \"p-value:\", pval)"
   ]
  },
  {
   "cell_type": "markdown",
   "id": "e27feec6",
   "metadata": {},
   "source": [
    "## Comparison of Two Variances\n",
    "\n",
    "- Assumption: Independent samples are taken from a normal distribution. In this case: $F = \\frac{(n-1)S_1^2/\\sigma_1^2}{(n-1)S_2^2/\\sigma_2^2} = \\frac{S_1^2/\\sigma_1^2}{S_2^2/\\sigma_2^2}$\n",
    "    - not robust to the normality assumption\n",
    "- Test Statistic: $F = \\frac{S_1^2}{S_2^2}$\n",
    "\n",
    "- Population 1: Sepal.Length of setosa\n",
    "- Population 2: Sepal.Length of versicolor\n",
    "- $H_0$: $\\sigma_1=\\sigma_2$\n",
    "- $H_a$: $\\sigma_1\\neq\\sigma_2$"
   ]
  },
  {
   "cell_type": "code",
   "execution_count": 11,
   "id": "150bf48c",
   "metadata": {},
   "outputs": [],
   "source": [
    "def var_F_test(x, y, tail='two-sided'):\n",
    "    f_stat = np.var(x)/np.var(y)\n",
    "    left_p = stats.f.cdf(f_stat, dfn=len(x)-1, dfd=len(y)-1) # P(X<=x)\n",
    "    if tail=='greater':\n",
    "        return f_stat, 1-left_p\n",
    "    if tail=='less':\n",
    "        return f_stat, left_p\n",
    "    else:\n",
    "        return f_stat, (left_p if left_p<0.5 else 1-left_p) * 2"
   ]
  },
  {
   "cell_type": "code",
   "execution_count": 12,
   "id": "c28e7c99",
   "metadata": {},
   "outputs": [
    {
     "name": "stdout",
     "output_type": "stream",
     "text": [
      "F-stat: 0.4663429131686986 p-value: 0.008657188362699816\n"
     ]
    }
   ],
   "source": [
    "f_stat, pval = var_F_test(\n",
    "    x = df.loc[df['Species']=='setosa','Sepal.Length'], \n",
    "    y = df.loc[df['Species']=='versicolor','Sepal.Length'],\n",
    "    tail = 'two-tail'\n",
    ")\n",
    "print(\"F-stat:\", f_stat, \"p-value:\", pval)"
   ]
  },
  {
   "cell_type": "markdown",
   "id": "4fb2a6bc",
   "metadata": {},
   "source": [
    "## Goodness-of-Fit Test (Categorical Data)\n",
    "\n",
    "- Rule of thumb: All expected cell counts are at least five.\n",
    "- For an $r*c$ contingency table, the Test Statistic, $\\chi^2 = \\sum_{j=1}^{r} \\sum_{i=1}^{c} \\frac{[n_{ij}-E(n_{ij})]^2}{E(n_{ij})}$\n",
    "    - where $E(n_{ij}) = \\frac{row\\_total*column\\_total}{n}$\n",
    "- dof: The number of cells minus 1 df for each independent linear restriction or each parameter estimated using MLE.\n",
    "    - For an $r*c$ contingency table, $dof = (r-1)(c-1)$\n",
    "- Variables:\n",
    "    - Categorical variable: Species\n",
    "    - Target variable: sepal_width_atleast3.1\n",
    "- $H_0$: The categorical variables are not correlated.\n",
    "- $H_a$: The categorical variables are correlated."
   ]
  },
  {
   "cell_type": "code",
   "execution_count": 9,
   "id": "e15ad0db",
   "metadata": {
    "scrolled": false
   },
   "outputs": [
    {
     "data": {
      "text/plain": [
       "Species     sepal_width_atleast3.1\n",
       "setosa      True                      42\n",
       "            False                      8\n",
       "versicolor  False                     42\n",
       "            True                       8\n",
       "virginica   False                     33\n",
       "            True                      17\n",
       "Name: sepal_width_atleast3.1, dtype: int64"
      ]
     },
     "execution_count": 9,
     "metadata": {},
     "output_type": "execute_result"
    }
   ],
   "source": [
    "df['sepal_width_atleast3_1'] = df['Sepal.Width']>=3.1\n",
    "df.groupby('Species')['sepal_width_atleast3.1'].value_counts()"
   ]
  },
  {
   "cell_type": "code",
   "execution_count": 123,
   "id": "a52f2683",
   "metadata": {
    "scrolled": true
   },
   "outputs": [
    {
     "data": {
      "text/html": [
       "<style  type=\"text/css\" >\n",
       "</style><table id=\"T_7ad56_\" ><caption>Expected</caption><thead>    <tr>        <th class=\"index_name level0\" >sepal_width_atleast3.1</th>        <th class=\"col_heading level0 col0\" >False</th>        <th class=\"col_heading level0 col1\" >True</th>    </tr>    <tr>        <th class=\"index_name level0\" >Species</th>        <th class=\"blank\" ></th>        <th class=\"blank\" ></th>    </tr></thead><tbody>\n",
       "                <tr>\n",
       "                        <th id=\"T_7ad56_level0_row0\" class=\"row_heading level0 row0\" >setosa</th>\n",
       "                        <td id=\"T_7ad56_row0_col0\" class=\"data row0 col0\" >27.666667</td>\n",
       "                        <td id=\"T_7ad56_row0_col1\" class=\"data row0 col1\" >22.333333</td>\n",
       "            </tr>\n",
       "            <tr>\n",
       "                        <th id=\"T_7ad56_level0_row1\" class=\"row_heading level0 row1\" >versicolor</th>\n",
       "                        <td id=\"T_7ad56_row1_col0\" class=\"data row1 col0\" >27.666667</td>\n",
       "                        <td id=\"T_7ad56_row1_col1\" class=\"data row1 col1\" >22.333333</td>\n",
       "            </tr>\n",
       "            <tr>\n",
       "                        <th id=\"T_7ad56_level0_row2\" class=\"row_heading level0 row2\" >virginica</th>\n",
       "                        <td id=\"T_7ad56_row2_col0\" class=\"data row2 col0\" >27.666667</td>\n",
       "                        <td id=\"T_7ad56_row2_col1\" class=\"data row2 col1\" >22.333333</td>\n",
       "            </tr>\n",
       "    </tbody></table>"
      ],
      "text/plain": [
       "<pandas.io.formats.style.Styler at 0x1b23793a460>"
      ]
     },
     "metadata": {},
     "output_type": "display_data"
    },
    {
     "data": {
      "text/html": [
       "<style  type=\"text/css\" >\n",
       "</style><table id=\"T_a79b3_\" ><caption>observed</caption><thead>    <tr>        <th class=\"index_name level0\" >sepal_width_atleast3.1</th>        <th class=\"col_heading level0 col0\" >False</th>        <th class=\"col_heading level0 col1\" >True</th>    </tr>    <tr>        <th class=\"index_name level0\" >Species</th>        <th class=\"blank\" ></th>        <th class=\"blank\" ></th>    </tr></thead><tbody>\n",
       "                <tr>\n",
       "                        <th id=\"T_a79b3_level0_row0\" class=\"row_heading level0 row0\" >setosa</th>\n",
       "                        <td id=\"T_a79b3_row0_col0\" class=\"data row0 col0\" >8</td>\n",
       "                        <td id=\"T_a79b3_row0_col1\" class=\"data row0 col1\" >42</td>\n",
       "            </tr>\n",
       "            <tr>\n",
       "                        <th id=\"T_a79b3_level0_row1\" class=\"row_heading level0 row1\" >versicolor</th>\n",
       "                        <td id=\"T_a79b3_row1_col0\" class=\"data row1 col0\" >42</td>\n",
       "                        <td id=\"T_a79b3_row1_col1\" class=\"data row1 col1\" >8</td>\n",
       "            </tr>\n",
       "            <tr>\n",
       "                        <th id=\"T_a79b3_level0_row2\" class=\"row_heading level0 row2\" >virginica</th>\n",
       "                        <td id=\"T_a79b3_row2_col0\" class=\"data row2 col0\" >33</td>\n",
       "                        <td id=\"T_a79b3_row2_col1\" class=\"data row2 col1\" >17</td>\n",
       "            </tr>\n",
       "    </tbody></table>"
      ],
      "text/plain": [
       "<pandas.io.formats.style.Styler at 0x1b237657340>"
      ]
     },
     "metadata": {},
     "output_type": "display_data"
    },
    {
     "data": {
      "text/html": [
       "<div>\n",
       "<style scoped>\n",
       "    .dataframe tbody tr th:only-of-type {\n",
       "        vertical-align: middle;\n",
       "    }\n",
       "\n",
       "    .dataframe tbody tr th {\n",
       "        vertical-align: top;\n",
       "    }\n",
       "\n",
       "    .dataframe thead th {\n",
       "        text-align: right;\n",
       "    }\n",
       "</style>\n",
       "<table border=\"1\" class=\"dataframe\">\n",
       "  <thead>\n",
       "    <tr style=\"text-align: right;\">\n",
       "      <th></th>\n",
       "      <th>test</th>\n",
       "      <th>lambda</th>\n",
       "      <th>chi2</th>\n",
       "      <th>dof</th>\n",
       "      <th>pval</th>\n",
       "      <th>cramer</th>\n",
       "      <th>power</th>\n",
       "    </tr>\n",
       "  </thead>\n",
       "  <tbody>\n",
       "    <tr>\n",
       "      <th>0</th>\n",
       "      <td>pearson</td>\n",
       "      <td>1.000000</td>\n",
       "      <td>50.224780</td>\n",
       "      <td>2.0</td>\n",
       "      <td>1.241160e-11</td>\n",
       "      <td>0.578647</td>\n",
       "      <td>0.999999</td>\n",
       "    </tr>\n",
       "    <tr>\n",
       "      <th>1</th>\n",
       "      <td>cressie-read</td>\n",
       "      <td>0.666667</td>\n",
       "      <td>50.918092</td>\n",
       "      <td>2.0</td>\n",
       "      <td>8.775601e-12</td>\n",
       "      <td>0.582627</td>\n",
       "      <td>0.999999</td>\n",
       "    </tr>\n",
       "    <tr>\n",
       "      <th>2</th>\n",
       "      <td>log-likelihood</td>\n",
       "      <td>0.000000</td>\n",
       "      <td>54.196713</td>\n",
       "      <td>2.0</td>\n",
       "      <td>1.703466e-12</td>\n",
       "      <td>0.601092</td>\n",
       "      <td>1.000000</td>\n",
       "    </tr>\n",
       "    <tr>\n",
       "      <th>3</th>\n",
       "      <td>freeman-tukey</td>\n",
       "      <td>-0.500000</td>\n",
       "      <td>58.722124</td>\n",
       "      <td>2.0</td>\n",
       "      <td>1.772771e-13</td>\n",
       "      <td>0.625684</td>\n",
       "      <td>1.000000</td>\n",
       "    </tr>\n",
       "    <tr>\n",
       "      <th>4</th>\n",
       "      <td>mod-log-likelihood</td>\n",
       "      <td>-1.000000</td>\n",
       "      <td>65.637935</td>\n",
       "      <td>2.0</td>\n",
       "      <td>5.583462e-15</td>\n",
       "      <td>0.661503</td>\n",
       "      <td>1.000000</td>\n",
       "    </tr>\n",
       "    <tr>\n",
       "      <th>5</th>\n",
       "      <td>neyman</td>\n",
       "      <td>-2.000000</td>\n",
       "      <td>90.663462</td>\n",
       "      <td>2.0</td>\n",
       "      <td>2.054373e-20</td>\n",
       "      <td>0.777447</td>\n",
       "      <td>1.000000</td>\n",
       "    </tr>\n",
       "  </tbody>\n",
       "</table>\n",
       "</div>"
      ],
      "text/plain": [
       "                 test    lambda       chi2  dof          pval    cramer  \\\n",
       "0             pearson  1.000000  50.224780  2.0  1.241160e-11  0.578647   \n",
       "1        cressie-read  0.666667  50.918092  2.0  8.775601e-12  0.582627   \n",
       "2      log-likelihood  0.000000  54.196713  2.0  1.703466e-12  0.601092   \n",
       "3       freeman-tukey -0.500000  58.722124  2.0  1.772771e-13  0.625684   \n",
       "4  mod-log-likelihood -1.000000  65.637935  2.0  5.583462e-15  0.661503   \n",
       "5              neyman -2.000000  90.663462  2.0  2.054373e-20  0.777447   \n",
       "\n",
       "      power  \n",
       "0  0.999999  \n",
       "1  0.999999  \n",
       "2  1.000000  \n",
       "3  1.000000  \n",
       "4  1.000000  \n",
       "5  1.000000  "
      ]
     },
     "metadata": {},
     "output_type": "display_data"
    }
   ],
   "source": [
    "expected, observed, stats = pg.chi2_independence(df, x='Species', y='sepal_width_atleast3.1')\n",
    "display(expected.style.set_caption(\"Expected\"), observed.style.set_caption(\"observed\"), stats)"
   ]
  },
  {
   "cell_type": "markdown",
   "id": "bb721ab5",
   "metadata": {},
   "source": [
    "# ANOVA\n",
    "\n",
    "## One-way ANOVA\n",
    "- Assumption: The $k$ populations are normally distributed with a same variance.\n",
    "    - The test is still robust with moderate departures from the normality and equal variances assumption.\n",
    "    - The equal variances assumption is less critical if sample size of all populations are equal.\n",
    "- Test Statistic: $F = MST/MSE$, large F indicates that $H_0$ should be rejected.\n",
    "- Variables:\n",
    "    - Categorical variable 1: Species\n",
    "    - Categorical variable 2: sepal_width_atleast3.1\n",
    "    - Target variable: Sepal.Length\n",
    "- $H_0$: $\\mu_1 = \\mu_2 = ... = \\mu_n$\n",
    "- $H_a$: At least 1 of the population mean is significantly different from another."
   ]
  },
  {
   "cell_type": "code",
   "execution_count": 5,
   "id": "9af736e7",
   "metadata": {
    "scrolled": true
   },
   "outputs": [
    {
     "data": {
      "text/html": [
       "<div>\n",
       "<style scoped>\n",
       "    .dataframe tbody tr th:only-of-type {\n",
       "        vertical-align: middle;\n",
       "    }\n",
       "\n",
       "    .dataframe tbody tr th {\n",
       "        vertical-align: top;\n",
       "    }\n",
       "\n",
       "    .dataframe thead th {\n",
       "        text-align: right;\n",
       "    }\n",
       "</style>\n",
       "<table border=\"1\" class=\"dataframe\">\n",
       "  <thead>\n",
       "    <tr style=\"text-align: right;\">\n",
       "      <th></th>\n",
       "      <th>Source</th>\n",
       "      <th>SS</th>\n",
       "      <th>DF</th>\n",
       "      <th>MS</th>\n",
       "      <th>F</th>\n",
       "      <th>p-unc</th>\n",
       "      <th>np2</th>\n",
       "    </tr>\n",
       "  </thead>\n",
       "  <tbody>\n",
       "    <tr>\n",
       "      <th>0</th>\n",
       "      <td>Species</td>\n",
       "      <td>63.212133</td>\n",
       "      <td>2</td>\n",
       "      <td>31.606067</td>\n",
       "      <td>119.264502</td>\n",
       "      <td>1.669669e-31</td>\n",
       "      <td>0.618706</td>\n",
       "    </tr>\n",
       "    <tr>\n",
       "      <th>1</th>\n",
       "      <td>Within</td>\n",
       "      <td>38.956200</td>\n",
       "      <td>147</td>\n",
       "      <td>0.265008</td>\n",
       "      <td>NaN</td>\n",
       "      <td>NaN</td>\n",
       "      <td>NaN</td>\n",
       "    </tr>\n",
       "  </tbody>\n",
       "</table>\n",
       "</div>"
      ],
      "text/plain": [
       "    Source         SS   DF         MS           F         p-unc       np2\n",
       "0  Species  63.212133    2  31.606067  119.264502  1.669669e-31  0.618706\n",
       "1   Within  38.956200  147   0.265008         NaN           NaN       NaN"
      ]
     },
     "execution_count": 5,
     "metadata": {},
     "output_type": "execute_result"
    }
   ],
   "source": [
    "pg.anova(data=df, dv='Sepal.Length', between='Species', detailed=True)"
   ]
  },
  {
   "cell_type": "markdown",
   "id": "81af4b57",
   "metadata": {},
   "source": [
    "## Two-way ANOVA\n",
    "\n",
    "Similar to one-way ANOVA but it handles two categorical variables and their interactions, each variable and the interaction have a *p*-value to differentiate if the variable/interaction lead to different means."
   ]
  },
  {
   "cell_type": "code",
   "execution_count": 14,
   "id": "3b518633",
   "metadata": {
    "scrolled": true
   },
   "outputs": [
    {
     "data": {
      "text/html": [
       "<div>\n",
       "<style scoped>\n",
       "    .dataframe tbody tr th:only-of-type {\n",
       "        vertical-align: middle;\n",
       "    }\n",
       "\n",
       "    .dataframe tbody tr th {\n",
       "        vertical-align: top;\n",
       "    }\n",
       "\n",
       "    .dataframe thead th {\n",
       "        text-align: right;\n",
       "    }\n",
       "</style>\n",
       "<table border=\"1\" class=\"dataframe\">\n",
       "  <thead>\n",
       "    <tr style=\"text-align: right;\">\n",
       "      <th></th>\n",
       "      <th>Source</th>\n",
       "      <th>SS</th>\n",
       "      <th>DF</th>\n",
       "      <th>MS</th>\n",
       "      <th>F</th>\n",
       "      <th>p-unc</th>\n",
       "      <th>np2</th>\n",
       "    </tr>\n",
       "  </thead>\n",
       "  <tbody>\n",
       "    <tr>\n",
       "      <th>0</th>\n",
       "      <td>Species</td>\n",
       "      <td>65.086000</td>\n",
       "      <td>2.0</td>\n",
       "      <td>32.543000</td>\n",
       "      <td>139.705044</td>\n",
       "      <td>1.884920e-34</td>\n",
       "      <td>0.659904</td>\n",
       "    </tr>\n",
       "    <tr>\n",
       "      <th>1</th>\n",
       "      <td>sepal_width_atleast3_1</td>\n",
       "      <td>4.963994</td>\n",
       "      <td>1.0</td>\n",
       "      <td>4.963994</td>\n",
       "      <td>21.310114</td>\n",
       "      <td>8.574314e-06</td>\n",
       "      <td>0.128910</td>\n",
       "    </tr>\n",
       "    <tr>\n",
       "      <th>2</th>\n",
       "      <td>Species * sepal_width_atleast3_1</td>\n",
       "      <td>0.448736</td>\n",
       "      <td>2.0</td>\n",
       "      <td>0.224368</td>\n",
       "      <td>0.963197</td>\n",
       "      <td>3.841159e-01</td>\n",
       "      <td>0.013201</td>\n",
       "    </tr>\n",
       "    <tr>\n",
       "      <th>3</th>\n",
       "      <td>Residual</td>\n",
       "      <td>33.543470</td>\n",
       "      <td>144.0</td>\n",
       "      <td>0.232941</td>\n",
       "      <td>NaN</td>\n",
       "      <td>NaN</td>\n",
       "      <td>NaN</td>\n",
       "    </tr>\n",
       "  </tbody>\n",
       "</table>\n",
       "</div>"
      ],
      "text/plain": [
       "                             Source         SS     DF         MS           F  \\\n",
       "0                           Species  65.086000    2.0  32.543000  139.705044   \n",
       "1            sepal_width_atleast3_1   4.963994    1.0   4.963994   21.310114   \n",
       "2  Species * sepal_width_atleast3_1   0.448736    2.0   0.224368    0.963197   \n",
       "3                          Residual  33.543470  144.0   0.232941         NaN   \n",
       "\n",
       "          p-unc       np2  \n",
       "0  1.884920e-34  0.659904  \n",
       "1  8.574314e-06  0.128910  \n",
       "2  3.841159e-01  0.013201  \n",
       "3           NaN       NaN  "
      ]
     },
     "execution_count": 14,
     "metadata": {},
     "output_type": "execute_result"
    }
   ],
   "source": [
    "pg.anova(\n",
    "    data=df.rename(columns={'Sepal.Length':'sepal_len'}), \n",
    "    dv='sepal_len', \n",
    "    between=['Species','sepal_width_atleast3_1'], \n",
    "    detailed=True\n",
    ")"
   ]
  }
 ],
 "metadata": {
  "kernelspec": {
   "display_name": "Python 3",
   "language": "python",
   "name": "python3"
  },
  "language_info": {
   "codemirror_mode": {
    "name": "ipython",
    "version": 3
   },
   "file_extension": ".py",
   "mimetype": "text/x-python",
   "name": "python",
   "nbconvert_exporter": "python",
   "pygments_lexer": "ipython3",
   "version": "3.8.8"
  },
  "toc": {
   "base_numbering": 1,
   "nav_menu": {},
   "number_sections": true,
   "sideBar": true,
   "skip_h1_title": false,
   "title_cell": "Table of Contents",
   "title_sidebar": "Contents",
   "toc_cell": false,
   "toc_position": {},
   "toc_section_display": true,
   "toc_window_display": true
  }
 },
 "nbformat": 4,
 "nbformat_minor": 5
}
