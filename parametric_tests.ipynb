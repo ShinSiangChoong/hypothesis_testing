{
 "cells": [
  {
   "cell_type": "code",
   "execution_count": 3,
   "id": "c6301c63",
   "metadata": {},
   "outputs": [
    {
     "name": "stdout",
     "output_type": "stream",
     "text": [
      "initiated datasets repo at: C:\\Users\\css91\\.pydataset/\n"
     ]
    }
   ],
   "source": [
    "import pandas as pd\n",
    "import numpy as np\n",
    "import pingouin as pg\n",
    "from scipy import stats\n",
    "from statsmodels.stats import weightstats as stests\n",
    "from pydataset import data"
   ]
  },
  {
   "cell_type": "code",
   "execution_count": 4,
   "id": "fb45619e",
   "metadata": {},
   "outputs": [],
   "source": [
    "df = data('iris')"
   ]
  },
  {
   "cell_type": "markdown",
   "id": "ed0e141f",
   "metadata": {},
   "source": [
    "# *Z*-Test\n",
    "\n",
    "Assumptions:\n",
    "- When sample size is large, the distribution of sample mean $(\\bar{X})$ is approximately normal with\n",
    "    - $E(\\bar{X}) = \\mu$ \n",
    "    - $Var(\\bar{X}) = \\sigma^2/n$\n",
    "    - where $\\mu$ and $\\sigma^2$ are the population mean and variance, respectively."
   ]
  },
  {
   "cell_type": "markdown",
   "id": "fb8e4751",
   "metadata": {},
   "source": [
    "## 1-sample *Z*-test\n",
    "\n",
    "Population: Sepal.Length of all 3 species (without differentiation among species).\n",
    "- $H_0$: $\\mu=5$\n",
    "- $H_a$: $\\mu\\neq5$"
   ]
  },
  {
   "cell_type": "code",
   "execution_count": 31,
   "id": "144f5855",
   "metadata": {
    "scrolled": false
   },
   "outputs": [
    {
     "name": "stdout",
     "output_type": "stream",
     "text": [
      "z-stat: 0.04930141164702255 p-value: 1.0446696695008141e-35\n"
     ]
    }
   ],
   "source": [
    "zstat, pval = stests.ztest(\n",
    "    x1=df['Sepal.Length'], \n",
    "    x2=None, \n",
    "    value=5,\n",
    "    alternative='two-sided' #'larger', 'smaller'\n",
    ")\n",
    "print(\"z-stat:\", ztest, \"p-value:\", pval)"
   ]
  },
  {
   "cell_type": "markdown",
   "id": "7013d1f0",
   "metadata": {},
   "source": [
    "## 2-sample *Z*-test\n",
    "\n",
    "- Population 1: Sepal.Length of setosa\n",
    "- Population 2: Sepal.Length of versicolor\n",
    "- $H_0$: $D_0 = \\mu_1 − \\mu_2 = 0$\n",
    "- $H_a$: $D_a = \\mu_1 − \\mu_2 \\neq 0$"
   ]
  },
  {
   "cell_type": "code",
   "execution_count": 32,
   "id": "13e75104",
   "metadata": {},
   "outputs": [
    {
     "name": "stdout",
     "output_type": "stream",
     "text": [
      "z-stat: 0.04930141164702255 p-value: 6.914595261207391e-26\n"
     ]
    }
   ],
   "source": [
    "zstat, pval = stests.ztest(\n",
    "    x1=df.loc[df['Species']=='setosa','Sepal.Length'], \n",
    "    x2=df.loc[df['Species']=='versicolor','Sepal.Length'],\n",
    "    value=0,\n",
    "    alternative='two-sided' #'larger', 'smaller'\n",
    ")\n",
    "print(\"z-stat:\", ztest, \"p-value:\", pval)"
   ]
  }
 ],
 "metadata": {
  "kernelspec": {
   "display_name": "Python 3",
   "language": "python",
   "name": "python3"
  },
  "language_info": {
   "codemirror_mode": {
    "name": "ipython",
    "version": 3
   },
   "file_extension": ".py",
   "mimetype": "text/x-python",
   "name": "python",
   "nbconvert_exporter": "python",
   "pygments_lexer": "ipython3",
   "version": "3.8.8"
  }
 },
 "nbformat": 4,
 "nbformat_minor": 5
}
