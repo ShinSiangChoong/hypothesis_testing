{
 "cells": [
  {
   "cell_type": "markdown",
   "id": "f1f83e87",
   "metadata": {},
   "source": [
    "# Why Non-Parametric Tests?\n",
    "- Some experiments yield response measurements that defy exact quantification.\n",
    "    - e.g. it is impossible to make statements such as “teacher A is twice as good as teacher B.”\n",
    "- Insufficient knowledge to estimate if the population(s) fulfil the assumptions that specified by parametric tests."
   ]
  },
  {
   "cell_type": "code",
   "execution_count": 2,
   "id": "61abb96d",
   "metadata": {},
   "outputs": [],
   "source": [
    "import pandas as pd\n",
    "import numpy as np\n",
    "import pingouin as pg\n",
    "from scipy import stats\n",
    "from statsmodels.stats.descriptivestats import sign_test\n",
    "from pydataset import data"
   ]
  },
  {
   "cell_type": "code",
   "execution_count": 3,
   "id": "6f6a57d1",
   "metadata": {},
   "outputs": [],
   "source": [
    "df = data('iris')"
   ]
  },
  {
   "cell_type": "markdown",
   "id": "04a5e405",
   "metadata": {},
   "source": [
    "# Paired Sign Test \n",
    "- Number of positive differences, M where $D_i = X_i − Y_i$ follows a binomial distribution, $Bin(n, p)$.\n",
    "- Test statistic: M = number of positive differences where $D_i = X_i − Y_i$\n",
    "- $H_0$: $p=0.5$\n",
    "- $H_a$: $p\\neq0.5$"
   ]
  },
  {
   "cell_type": "code",
   "execution_count": 30,
   "id": "0ea9bfb2",
   "metadata": {},
   "outputs": [],
   "source": [
    "def sign_test(x, y, tail='two-sided', p0=0.5):\n",
    "    M = (x>y).sum()\n",
    "    left_p = stats.binom.cdf(M, len(x), p0) # P(X<=x)\n",
    "    if tail=='greater':\n",
    "        return M, 1-left_p\n",
    "    if tail=='less':\n",
    "        return M, left_p\n",
    "    else:\n",
    "        return M, (left_p if left_p<0.5 else 1-left_p) * 2"
   ]
  },
  {
   "cell_type": "code",
   "execution_count": 32,
   "id": "2569425b",
   "metadata": {
    "scrolled": false
   },
   "outputs": [
    {
     "name": "stdout",
     "output_type": "stream",
     "text": [
      "M: 43 p-value: 3.243740565039843e-08\n"
     ]
    }
   ],
   "source": [
    "M, pval = sign_test(\n",
    "    x = df.loc[df['Species']=='setosa','Sepal.Width'].values, \n",
    "    y = df.loc[df['Species']=='versicolor','Sepal.Width'].values,\n",
    "    tail='two-sided', \n",
    "    p0=0.5\n",
    ")\n",
    "print(\"M:\", M, \"p-value:\", pval)"
   ]
  },
  {
   "cell_type": "markdown",
   "id": "c64d35c5",
   "metadata": {},
   "source": [
    "# Wilcoxon Signed-Rank Test (Paired Samples)\n",
    "\n",
    "- Assumption: Independent random samples have been drawn from 2 populations that differ only in location.\n",
    "- $H_0$: The population distributions for the X’s and Y ’s are identical.\n",
    "- $H_a$: \n",
    "    - The two population distributions differ in location (two-tailed),\n",
    "    - The population relative frequency distribution for the X’s is shifted to the right/left of that for the Y ’s (one-tailed).\n",
    "    \n",
    "- Procedure: The absolute values of the pair differences are ranked, \n",
    "    - W- indicates the sum of rank of the negative differences\n",
    "    - W+ indicates the sum of rank of the positive differences\n",
    "Test statistic:\n",
    "1. For a two-tailed test, use $W = min(W+, W−)$\n",
    "2. For a one-tailed test (to detect the one-tailed alternative just given), use the rank sum T− of the negative differences.\n"
   ]
  },
  {
   "cell_type": "code",
   "execution_count": 33,
   "id": "a38075d6",
   "metadata": {
    "scrolled": true
   },
   "outputs": [
    {
     "data": {
      "text/html": [
       "<div>\n",
       "<style scoped>\n",
       "    .dataframe tbody tr th:only-of-type {\n",
       "        vertical-align: middle;\n",
       "    }\n",
       "\n",
       "    .dataframe tbody tr th {\n",
       "        vertical-align: top;\n",
       "    }\n",
       "\n",
       "    .dataframe thead th {\n",
       "        text-align: right;\n",
       "    }\n",
       "</style>\n",
       "<table border=\"1\" class=\"dataframe\">\n",
       "  <thead>\n",
       "    <tr style=\"text-align: right;\">\n",
       "      <th></th>\n",
       "      <th>W-val</th>\n",
       "      <th>tail</th>\n",
       "      <th>p-val</th>\n",
       "      <th>RBC</th>\n",
       "      <th>CLES</th>\n",
       "    </tr>\n",
       "  </thead>\n",
       "  <tbody>\n",
       "    <tr>\n",
       "      <th>Wilcoxon</th>\n",
       "      <td>19.0</td>\n",
       "      <td>two-sided</td>\n",
       "      <td>3.586548e-09</td>\n",
       "      <td>-0.96898</td>\n",
       "      <td>0.0674</td>\n",
       "    </tr>\n",
       "  </tbody>\n",
       "</table>\n",
       "</div>"
      ],
      "text/plain": [
       "          W-val       tail         p-val      RBC    CLES\n",
       "Wilcoxon   19.0  two-sided  3.586548e-09 -0.96898  0.0674"
      ]
     },
     "execution_count": 33,
     "metadata": {},
     "output_type": "execute_result"
    }
   ],
   "source": [
    "pg.wilcoxon(\n",
    "    x=df.loc[df['Species']=='setosa','Sepal.Length'], \n",
    "    y=df.loc[df['Species']=='versicolor','Sepal.Length'],\n",
    "    tail='two-sided'\n",
    ")"
   ]
  },
  {
   "cell_type": "markdown",
   "id": "63821292",
   "metadata": {},
   "source": [
    "# Mann–Whitney U Test (Independent Samples)\n",
    "- Assumption: Independent random samples have been drawn from 2 populations that differ only in location.\n",
    "- Equivalent to Wilcoxon Rank-sum Test\n",
    "    - Procedure: Rank $n_1 + n_2 = n$ observations in terms of magnitude\n",
    "    - Rationale: The expected rank sums for the samples should be proportional to the sample sizes n1 and n2. If the observations in one population tended to be larger, the rank sum in its sample is larger than the expected rank sum.\n",
    "- Test statistic: $U = n_1n_2 + \\frac{n_1(n_1 + 1)}{2}-W$, where $W$ is the smaller rank sum.\n",
    "- $H_0$: The population distributions for the X’s and Y ’s are identical.\n",
    "- $H_a$: \n",
    "    - The two population distributions differ in location (two-tailed),\n",
    "    - The population relative frequency distribution for the X’s is shifted to the right/left of that for the Y ’s (one-tailed)."
   ]
  },
  {
   "cell_type": "code",
   "execution_count": 85,
   "id": "ec2e543d",
   "metadata": {
    "scrolled": true
   },
   "outputs": [
    {
     "data": {
      "text/html": [
       "<div>\n",
       "<style scoped>\n",
       "    .dataframe tbody tr th:only-of-type {\n",
       "        vertical-align: middle;\n",
       "    }\n",
       "\n",
       "    .dataframe tbody tr th {\n",
       "        vertical-align: top;\n",
       "    }\n",
       "\n",
       "    .dataframe thead th {\n",
       "        text-align: right;\n",
       "    }\n",
       "</style>\n",
       "<table border=\"1\" class=\"dataframe\">\n",
       "  <thead>\n",
       "    <tr style=\"text-align: right;\">\n",
       "      <th></th>\n",
       "      <th>U-val</th>\n",
       "      <th>tail</th>\n",
       "      <th>p-val</th>\n",
       "      <th>RBC</th>\n",
       "      <th>CLES</th>\n",
       "    </tr>\n",
       "  </thead>\n",
       "  <tbody>\n",
       "    <tr>\n",
       "      <th>MWU</th>\n",
       "      <td>168.5</td>\n",
       "      <td>two-sided</td>\n",
       "      <td>8.345827e-14</td>\n",
       "      <td>0.8652</td>\n",
       "      <td>0.0674</td>\n",
       "    </tr>\n",
       "  </tbody>\n",
       "</table>\n",
       "</div>"
      ],
      "text/plain": [
       "     U-val       tail         p-val     RBC    CLES\n",
       "MWU  168.5  two-sided  8.345827e-14  0.8652  0.0674"
      ]
     },
     "execution_count": 85,
     "metadata": {},
     "output_type": "execute_result"
    }
   ],
   "source": [
    "pg.mwu(\n",
    "    x = df.loc[df['Species']=='setosa','Sepal.Length'], \n",
    "    y = df.loc[df['Species']=='versicolor','Sepal.Length'],\n",
    "    tail = 'two-sided'\n",
    ")"
   ]
  },
  {
   "cell_type": "markdown",
   "id": "8096a469",
   "metadata": {},
   "source": [
    "# Kruskal–Wallis Test\n",
    "- Non-parametric version of one-way ANOVA.\n",
    "- Rationale: Rank analogue of SST $V = \\sum_{i=1}^{k}n_i(\\bar{R_i}-\\bar{R})$\n",
    "    - $\\bar{R_i} = R_i/n_i$ denotes average rank in a category.\n",
    "    - $\\bar{R}$ = (sum of first n int)/n = $[n(n+1)/2]/n = (n+1)/2$ denotes the overall overage rank.\n",
    "    - large $V$ indicates that $H_0$ should be rejected. \n",
    "- Test statistic: A transformed version of V, when each n_i is greater than 5, it can be approximated using $\\chi^2$ with $k-1$ dof.\n",
    "- $H_0$: The *k* population distributions are identical.\n",
    "- $H_a$: At least two of the population distributions differ in location."
   ]
  },
  {
   "cell_type": "code",
   "execution_count": 10,
   "id": "9d148c23",
   "metadata": {
    "scrolled": true
   },
   "outputs": [
    {
     "data": {
      "text/html": [
       "<div>\n",
       "<style scoped>\n",
       "    .dataframe tbody tr th:only-of-type {\n",
       "        vertical-align: middle;\n",
       "    }\n",
       "\n",
       "    .dataframe tbody tr th {\n",
       "        vertical-align: top;\n",
       "    }\n",
       "\n",
       "    .dataframe thead th {\n",
       "        text-align: right;\n",
       "    }\n",
       "</style>\n",
       "<table border=\"1\" class=\"dataframe\">\n",
       "  <thead>\n",
       "    <tr style=\"text-align: right;\">\n",
       "      <th></th>\n",
       "      <th>Source</th>\n",
       "      <th>ddof1</th>\n",
       "      <th>H</th>\n",
       "      <th>p-unc</th>\n",
       "    </tr>\n",
       "  </thead>\n",
       "  <tbody>\n",
       "    <tr>\n",
       "      <th>Kruskal</th>\n",
       "      <td>Species</td>\n",
       "      <td>2</td>\n",
       "      <td>96.937436</td>\n",
       "      <td>8.918734e-22</td>\n",
       "    </tr>\n",
       "  </tbody>\n",
       "</table>\n",
       "</div>"
      ],
      "text/plain": [
       "          Source  ddof1          H         p-unc\n",
       "Kruskal  Species      2  96.937436  8.918734e-22"
      ]
     },
     "execution_count": 10,
     "metadata": {},
     "output_type": "execute_result"
    }
   ],
   "source": [
    "pg.kruskal(\n",
    "    data=df, \n",
    "    dv='Sepal.Length', \n",
    "    between='Species'\n",
    ")"
   ]
  },
  {
   "cell_type": "markdown",
   "id": "20639f4c",
   "metadata": {},
   "source": [
    "## Post-hoc Test: Pairwise Mann-Whitney U Test\n",
    "- with adjusted *p*-values"
   ]
  },
  {
   "cell_type": "code",
   "execution_count": 3,
   "id": "1658e853",
   "metadata": {},
   "outputs": [],
   "source": [
    "df_mixed_anova = pg.read_dataset('mixed_anova.csv')"
   ]
  },
  {
   "cell_type": "code",
   "execution_count": 4,
   "id": "1145444d",
   "metadata": {},
   "outputs": [
    {
     "data": {
      "text/html": [
       "<div>\n",
       "<style scoped>\n",
       "    .dataframe tbody tr th:only-of-type {\n",
       "        vertical-align: middle;\n",
       "    }\n",
       "\n",
       "    .dataframe tbody tr th {\n",
       "        vertical-align: top;\n",
       "    }\n",
       "\n",
       "    .dataframe thead th {\n",
       "        text-align: right;\n",
       "    }\n",
       "</style>\n",
       "<table border=\"1\" class=\"dataframe\">\n",
       "  <thead>\n",
       "    <tr style=\"text-align: right;\">\n",
       "      <th></th>\n",
       "      <th>Contrast</th>\n",
       "      <th>A</th>\n",
       "      <th>B</th>\n",
       "      <th>Paired</th>\n",
       "      <th>Parametric</th>\n",
       "      <th>U-val</th>\n",
       "      <th>Tail</th>\n",
       "      <th>p-unc</th>\n",
       "      <th>p-corr</th>\n",
       "      <th>p-adjust</th>\n",
       "      <th>hedges</th>\n",
       "    </tr>\n",
       "  </thead>\n",
       "  <tbody>\n",
       "    <tr>\n",
       "      <th>0</th>\n",
       "      <td>Time</td>\n",
       "      <td>August</td>\n",
       "      <td>January</td>\n",
       "      <td>False</td>\n",
       "      <td>False</td>\n",
       "      <td>1495.0</td>\n",
       "      <td>two-sided</td>\n",
       "      <td>0.109996</td>\n",
       "      <td>0.219992</td>\n",
       "      <td>holm</td>\n",
       "      <td>-0.327583</td>\n",
       "    </tr>\n",
       "    <tr>\n",
       "      <th>1</th>\n",
       "      <td>Time</td>\n",
       "      <td>August</td>\n",
       "      <td>June</td>\n",
       "      <td>False</td>\n",
       "      <td>False</td>\n",
       "      <td>1280.0</td>\n",
       "      <td>two-sided</td>\n",
       "      <td>0.006398</td>\n",
       "      <td>0.019193</td>\n",
       "      <td>holm</td>\n",
       "      <td>-0.482547</td>\n",
       "    </tr>\n",
       "    <tr>\n",
       "      <th>2</th>\n",
       "      <td>Time</td>\n",
       "      <td>January</td>\n",
       "      <td>June</td>\n",
       "      <td>False</td>\n",
       "      <td>False</td>\n",
       "      <td>1545.0</td>\n",
       "      <td>two-sided</td>\n",
       "      <td>0.181622</td>\n",
       "      <td>0.219992</td>\n",
       "      <td>holm</td>\n",
       "      <td>-0.169520</td>\n",
       "    </tr>\n",
       "  </tbody>\n",
       "</table>\n",
       "</div>"
      ],
      "text/plain": [
       "  Contrast        A        B  Paired  Parametric   U-val       Tail     p-unc  \\\n",
       "0     Time   August  January   False       False  1495.0  two-sided  0.109996   \n",
       "1     Time   August     June   False       False  1280.0  two-sided  0.006398   \n",
       "2     Time  January     June   False       False  1545.0  two-sided  0.181622   \n",
       "\n",
       "     p-corr p-adjust    hedges  \n",
       "0  0.219992     holm -0.327583  \n",
       "1  0.019193     holm -0.482547  \n",
       "2  0.219992     holm -0.169520  "
      ]
     },
     "execution_count": 4,
     "metadata": {},
     "output_type": "execute_result"
    }
   ],
   "source": [
    "pg.pairwise_ttests(\n",
    "    data=df_mixed_anova,\n",
    "    dv='Scores', \n",
    "    between=['Time'],    \n",
    "    padjust='holm',\n",
    "    parametric=False\n",
    ")"
   ]
  },
  {
   "cell_type": "markdown",
   "id": "00cc276f",
   "metadata": {},
   "source": [
    "# Friedman Test (Randomized Block Design)\n",
    "\n",
    "- Procedure: Let we have *b* blocks and *k* treatments, rank the observations from *k* treatments within each block.\n",
    "    - $\\bar{R_i} = \\frac{\\sum_{j=1}^{b}R_{ij}}{b}$ denotes average ranks of treatment *i*\n",
    "    - $\\bar{R} = \\frac{bk(k+1)/2}{bk} = (k+1)/2$ denotes the overall overage rank.\n",
    "    - $W = b\\sum_{i=1}^{k}(\\bar{R_i}-\\bar{R})$ denotes the rank analogue of SST, large $W$ indicates $H_0$ should be rejected. \n",
    "    \n",
    "- Test statistic: A transformed version of W, when either $b$ or $k$ is greater than 5, it can be approximated using $\\chi^2$ with $k-1$ dof.\n",
    "- $H_0$: The distributions of *k* distributions are identical.\n",
    "- $H_a$: At least two of the treatments differ in locations of distributions."
   ]
  },
  {
   "cell_type": "code",
   "execution_count": null,
   "id": "d5a90744",
   "metadata": {},
   "outputs": [],
   "source": [
    "df['sepal_width_atleast3_1'] = df['Sepal.Width']>=3.1"
   ]
  },
  {
   "cell_type": "code",
   "execution_count": 11,
   "id": "5c2a9bb8",
   "metadata": {
    "scrolled": false
   },
   "outputs": [
    {
     "data": {
      "text/html": [
       "<div>\n",
       "<style scoped>\n",
       "    .dataframe tbody tr th:only-of-type {\n",
       "        vertical-align: middle;\n",
       "    }\n",
       "\n",
       "    .dataframe tbody tr th {\n",
       "        vertical-align: top;\n",
       "    }\n",
       "\n",
       "    .dataframe thead th {\n",
       "        text-align: right;\n",
       "    }\n",
       "</style>\n",
       "<table border=\"1\" class=\"dataframe\">\n",
       "  <thead>\n",
       "    <tr style=\"text-align: right;\">\n",
       "      <th></th>\n",
       "      <th>Source</th>\n",
       "      <th>W</th>\n",
       "      <th>ddof1</th>\n",
       "      <th>Q</th>\n",
       "      <th>p-unc</th>\n",
       "    </tr>\n",
       "  </thead>\n",
       "  <tbody>\n",
       "    <tr>\n",
       "      <th>Friedman</th>\n",
       "      <td>Species</td>\n",
       "      <td>1.0</td>\n",
       "      <td>2</td>\n",
       "      <td>4.0</td>\n",
       "      <td>0.135335</td>\n",
       "    </tr>\n",
       "  </tbody>\n",
       "</table>\n",
       "</div>"
      ],
      "text/plain": [
       "           Source    W  ddof1    Q     p-unc\n",
       "Friedman  Species  1.0      2  4.0  0.135335"
      ]
     },
     "execution_count": 11,
     "metadata": {},
     "output_type": "execute_result"
    }
   ],
   "source": [
    "pg.friedman(\n",
    "    data=df, \n",
    "    dv='Sepal.Length', # response\n",
    "    within='Species', # block\n",
    "    subject='sepal_width_atleast3_1' # treatment\n",
    ")"
   ]
  },
  {
   "cell_type": "markdown",
   "id": "399cf763",
   "metadata": {},
   "source": [
    "## Post-hoc Test: Pairwise Wilcoxon Signed-Rank Test\n",
    "- with adjusted *p*-values"
   ]
  },
  {
   "cell_type": "code",
   "execution_count": 9,
   "id": "a9e80a68",
   "metadata": {
    "scrolled": true
   },
   "outputs": [
    {
     "data": {
      "text/html": [
       "<div>\n",
       "<style scoped>\n",
       "    .dataframe tbody tr th:only-of-type {\n",
       "        vertical-align: middle;\n",
       "    }\n",
       "\n",
       "    .dataframe tbody tr th {\n",
       "        vertical-align: top;\n",
       "    }\n",
       "\n",
       "    .dataframe thead th {\n",
       "        text-align: right;\n",
       "    }\n",
       "</style>\n",
       "<table border=\"1\" class=\"dataframe\">\n",
       "  <thead>\n",
       "    <tr style=\"text-align: right;\">\n",
       "      <th></th>\n",
       "      <th>Contrast</th>\n",
       "      <th>A</th>\n",
       "      <th>B</th>\n",
       "      <th>Paired</th>\n",
       "      <th>Parametric</th>\n",
       "      <th>U-val</th>\n",
       "      <th>Tail</th>\n",
       "      <th>p-unc</th>\n",
       "      <th>p-corr</th>\n",
       "      <th>p-adjust</th>\n",
       "      <th>hedges</th>\n",
       "    </tr>\n",
       "  </thead>\n",
       "  <tbody>\n",
       "    <tr>\n",
       "      <th>0</th>\n",
       "      <td>Time</td>\n",
       "      <td>August</td>\n",
       "      <td>January</td>\n",
       "      <td>False</td>\n",
       "      <td>False</td>\n",
       "      <td>1495.0</td>\n",
       "      <td>two-sided</td>\n",
       "      <td>0.109996</td>\n",
       "      <td>0.219992</td>\n",
       "      <td>holm</td>\n",
       "      <td>-0.327583</td>\n",
       "    </tr>\n",
       "    <tr>\n",
       "      <th>1</th>\n",
       "      <td>Time</td>\n",
       "      <td>August</td>\n",
       "      <td>June</td>\n",
       "      <td>False</td>\n",
       "      <td>False</td>\n",
       "      <td>1280.0</td>\n",
       "      <td>two-sided</td>\n",
       "      <td>0.006398</td>\n",
       "      <td>0.019193</td>\n",
       "      <td>holm</td>\n",
       "      <td>-0.482547</td>\n",
       "    </tr>\n",
       "    <tr>\n",
       "      <th>2</th>\n",
       "      <td>Time</td>\n",
       "      <td>January</td>\n",
       "      <td>June</td>\n",
       "      <td>False</td>\n",
       "      <td>False</td>\n",
       "      <td>1545.0</td>\n",
       "      <td>two-sided</td>\n",
       "      <td>0.181622</td>\n",
       "      <td>0.219992</td>\n",
       "      <td>holm</td>\n",
       "      <td>-0.169520</td>\n",
       "    </tr>\n",
       "  </tbody>\n",
       "</table>\n",
       "</div>"
      ],
      "text/plain": [
       "  Contrast        A        B  Paired  Parametric   U-val       Tail     p-unc  \\\n",
       "0     Time   August  January   False       False  1495.0  two-sided  0.109996   \n",
       "1     Time   August     June   False       False  1280.0  two-sided  0.006398   \n",
       "2     Time  January     June   False       False  1545.0  two-sided  0.181622   \n",
       "\n",
       "     p-corr p-adjust    hedges  \n",
       "0  0.219992     holm -0.327583  \n",
       "1  0.019193     holm -0.482547  \n",
       "2  0.219992     holm -0.169520  "
      ]
     },
     "execution_count": 9,
     "metadata": {},
     "output_type": "execute_result"
    }
   ],
   "source": [
    "pg.pairwise_ttests(\n",
    "    data=df_mixed_anova,\n",
    "    dv='Scores', \n",
    "    between=['Time'], \n",
    "    subject='Subject',\n",
    "    padjust='holm',\n",
    "    parametric=False\n",
    ")"
   ]
  }
 ],
 "metadata": {
  "kernelspec": {
   "display_name": "Python 3",
   "language": "python",
   "name": "python3"
  },
  "language_info": {
   "codemirror_mode": {
    "name": "ipython",
    "version": 3
   },
   "file_extension": ".py",
   "mimetype": "text/x-python",
   "name": "python",
   "nbconvert_exporter": "python",
   "pygments_lexer": "ipython3",
   "version": "3.8.8"
  },
  "toc": {
   "base_numbering": 1,
   "nav_menu": {},
   "number_sections": true,
   "sideBar": true,
   "skip_h1_title": false,
   "title_cell": "Table of Contents",
   "title_sidebar": "Contents",
   "toc_cell": false,
   "toc_position": {},
   "toc_section_display": true,
   "toc_window_display": true
  }
 },
 "nbformat": 4,
 "nbformat_minor": 5
}
