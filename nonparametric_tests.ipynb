{
 "cells": [
  {
   "cell_type": "markdown",
   "id": "0264654e",
   "metadata": {},
   "source": [
    "# Why Non-Parametric Tests?\n",
    "- Some experiments yield response measurements that defy exact quantification.\n",
    "    - e.g. it is impossible to make statements such as “teacher A is twice as good as teacher B.”\n",
    "- Insufficient knowledge to estimate if the population(s) fulfil the assumptions that specified by parametric tests."
   ]
  },
  {
   "cell_type": "code",
   "execution_count": 3,
   "id": "371e2123",
   "metadata": {},
   "outputs": [],
   "source": [
    "import pandas as pd\n",
    "import numpy as np\n",
    "import pingouin as pg\n",
    "from scipy import stats\n",
    "from statsmodels.stats.descriptivestats import sign_test\n",
    "from pydataset import data"
   ]
  },
  {
   "cell_type": "code",
   "execution_count": 2,
   "id": "9b642b46",
   "metadata": {},
   "outputs": [],
   "source": [
    "df = data('iris')"
   ]
  },
  {
   "cell_type": "markdown",
   "id": "fcd985dd",
   "metadata": {},
   "source": [
    "# Paired Sign Test \n",
    "- Number of positive differences, M where $D_i = X_i − Y_i$ follows a binomial distribution.\n",
    "- Test statistic: M = number of positive differences where $D_i = X_i − Y_i$\n",
    "- $H_0$: $p=0.5$\n",
    "- $H_a$: $p\\neq0.5$"
   ]
  },
  {
   "cell_type": "code",
   "execution_count": 30,
   "id": "0008390d",
   "metadata": {},
   "outputs": [],
   "source": [
    "def sign_test(x, y, tail='two-sided', p0=0.5):\n",
    "    M = (x>y).sum()\n",
    "    left_p = stats.binom.cdf(M, len(x), p0) # P(X<=x)\n",
    "    if tail=='greater':\n",
    "        return M, 1-left_p\n",
    "    if tail=='less':\n",
    "        return M, left_p\n",
    "    else:\n",
    "        return M, (left_p if left_p<0.5 else 1-left_p) * 2"
   ]
  },
  {
   "cell_type": "code",
   "execution_count": 32,
   "id": "59e86f61",
   "metadata": {
    "scrolled": false
   },
   "outputs": [
    {
     "name": "stdout",
     "output_type": "stream",
     "text": [
      "M: 43 p-value: 3.243740565039843e-08\n"
     ]
    }
   ],
   "source": [
    "M, pval = sign_test(\n",
    "    x = df.loc[df['Species']=='setosa','Sepal.Width'].values, \n",
    "    y = df.loc[df['Species']=='versicolor','Sepal.Width'].values,\n",
    "    tail='two-sided', \n",
    "    p0=0.5\n",
    ")\n",
    "print(\"M:\", M, \"p-value:\", pval)"
   ]
  },
  {
   "cell_type": "markdown",
   "id": "2b0b8b20",
   "metadata": {},
   "source": [
    "# Wilcoxon Signed-Rank Test\n",
    "\n"
   ]
  },
  {
   "cell_type": "code",
   "execution_count": null,
   "id": "ae6fa8e0",
   "metadata": {},
   "outputs": [],
   "source": []
  }
 ],
 "metadata": {
  "kernelspec": {
   "display_name": "Python 3",
   "language": "python",
   "name": "python3"
  },
  "language_info": {
   "codemirror_mode": {
    "name": "ipython",
    "version": 3
   },
   "file_extension": ".py",
   "mimetype": "text/x-python",
   "name": "python",
   "nbconvert_exporter": "python",
   "pygments_lexer": "ipython3",
   "version": "3.8.8"
  },
  "toc": {
   "base_numbering": 1,
   "nav_menu": {},
   "number_sections": true,
   "sideBar": true,
   "skip_h1_title": false,
   "title_cell": "Table of Contents",
   "title_sidebar": "Contents",
   "toc_cell": false,
   "toc_position": {},
   "toc_section_display": true,
   "toc_window_display": true
  }
 },
 "nbformat": 4,
 "nbformat_minor": 5
}
