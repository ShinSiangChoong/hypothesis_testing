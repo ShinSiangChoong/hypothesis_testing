{
 "cells": [
  {
   "cell_type": "markdown",
   "id": "be3ab882",
   "metadata": {},
   "source": [
    "# Why Non-Parametric Tests?\n",
    "- Some experiments yield response measurements that defy exact quantification.\n",
    "    - e.g. it is impossible to make statements such as “teacher A is twice as good as teacher B.”\n",
    "- Insufficient knowledge to estimate if the population(s) fulfil the assumptions that specified by parametric tests."
   ]
  },
  {
   "cell_type": "code",
   "execution_count": 3,
   "id": "cd1afbe5",
   "metadata": {},
   "outputs": [],
   "source": [
    "import pandas as pd\n",
    "import numpy as np\n",
    "import pingouin as pg\n",
    "from scipy import stats\n",
    "from statsmodels.stats.descriptivestats import sign_test\n",
    "from pydataset import data"
   ]
  },
  {
   "cell_type": "code",
   "execution_count": 2,
   "id": "6f2e530b",
   "metadata": {},
   "outputs": [],
   "source": [
    "df = data('iris')"
   ]
  },
  {
   "cell_type": "markdown",
   "id": "b431a601",
   "metadata": {},
   "source": [
    "# Paired Sign Test \n",
    "- Number of positive differences, M where $D_i = X_i − Y_i$ follows a binomial distribution, $Bin(n, p)$.\n",
    "- Test statistic: M = number of positive differences where $D_i = X_i − Y_i$\n",
    "- $H_0$: $p=0.5$\n",
    "- $H_a$: $p\\neq0.5$"
   ]
  },
  {
   "cell_type": "code",
   "execution_count": 30,
   "id": "70ef5bda",
   "metadata": {},
   "outputs": [],
   "source": [
    "def sign_test(x, y, tail='two-sided', p0=0.5):\n",
    "    M = (x>y).sum()\n",
    "    left_p = stats.binom.cdf(M, len(x), p0) # P(X<=x)\n",
    "    if tail=='greater':\n",
    "        return M, 1-left_p\n",
    "    if tail=='less':\n",
    "        return M, left_p\n",
    "    else:\n",
    "        return M, (left_p if left_p<0.5 else 1-left_p) * 2"
   ]
  },
  {
   "cell_type": "code",
   "execution_count": 32,
   "id": "be5f68d1",
   "metadata": {
    "scrolled": false
   },
   "outputs": [
    {
     "name": "stdout",
     "output_type": "stream",
     "text": [
      "M: 43 p-value: 3.243740565039843e-08\n"
     ]
    }
   ],
   "source": [
    "M, pval = sign_test(\n",
    "    x = df.loc[df['Species']=='setosa','Sepal.Width'].values, \n",
    "    y = df.loc[df['Species']=='versicolor','Sepal.Width'].values,\n",
    "    tail='two-sided', \n",
    "    p0=0.5\n",
    ")\n",
    "print(\"M:\", M, \"p-value:\", pval)"
   ]
  },
  {
   "cell_type": "markdown",
   "id": "b1e6e3e7",
   "metadata": {},
   "source": [
    "# Wilcoxon Signed-Rank Test (Paired Samples)\n",
    "\n",
    "- $H_0$: The population distributions for the X’s and Y ’s are identical.\n",
    "- $H_a$: \n",
    "    - The two population distributions differ in location (two-tailed),\n",
    "    - The population relative frequency distribution for the X’s is shifted to the right/left of that for the Y ’s (one-tailed).\n",
    "    \n",
    "- Procedure: The absolute values of the pair differences are ranked, \n",
    "    - W- indicates the sum of rank of the negative differences\n",
    "    - W+ indicates the sum of rank of the positive differences\n",
    "Test statistic:\n",
    "1. For a two-tailed test, use $W = min(W+, W−)$\n",
    "2. For a one-tailed test (to detect the one-tailed alternative just given), use the rank sum T− of the negative differences.\n"
   ]
  },
  {
   "cell_type": "code",
   "execution_count": 33,
   "id": "ff677acc",
   "metadata": {
    "scrolled": true
   },
   "outputs": [
    {
     "data": {
      "text/html": [
       "<div>\n",
       "<style scoped>\n",
       "    .dataframe tbody tr th:only-of-type {\n",
       "        vertical-align: middle;\n",
       "    }\n",
       "\n",
       "    .dataframe tbody tr th {\n",
       "        vertical-align: top;\n",
       "    }\n",
       "\n",
       "    .dataframe thead th {\n",
       "        text-align: right;\n",
       "    }\n",
       "</style>\n",
       "<table border=\"1\" class=\"dataframe\">\n",
       "  <thead>\n",
       "    <tr style=\"text-align: right;\">\n",
       "      <th></th>\n",
       "      <th>W-val</th>\n",
       "      <th>tail</th>\n",
       "      <th>p-val</th>\n",
       "      <th>RBC</th>\n",
       "      <th>CLES</th>\n",
       "    </tr>\n",
       "  </thead>\n",
       "  <tbody>\n",
       "    <tr>\n",
       "      <th>Wilcoxon</th>\n",
       "      <td>19.0</td>\n",
       "      <td>two-sided</td>\n",
       "      <td>3.586548e-09</td>\n",
       "      <td>-0.96898</td>\n",
       "      <td>0.0674</td>\n",
       "    </tr>\n",
       "  </tbody>\n",
       "</table>\n",
       "</div>"
      ],
      "text/plain": [
       "          W-val       tail         p-val      RBC    CLES\n",
       "Wilcoxon   19.0  two-sided  3.586548e-09 -0.96898  0.0674"
      ]
     },
     "execution_count": 33,
     "metadata": {},
     "output_type": "execute_result"
    }
   ],
   "source": [
    "pg.wilcoxon(\n",
    "    x=df.loc[df['Species']=='setosa','Sepal.Length'], \n",
    "    y=df.loc[df['Species']=='versicolor','Sepal.Length'],\n",
    "    tail='two-sided'\n",
    ")"
   ]
  },
  {
   "cell_type": "markdown",
   "id": "6503d35d",
   "metadata": {},
   "source": [
    "# Mann–Whitney U Test (Independent Samples)\n",
    "Equivalent to Wilcoxon Rank-sum Test\n",
    "- Procedure: Rank n1 + n2 = n observations in terms of magnitude\n",
    "- Rationale: The expected rank sums for the samples should be proportional to the sample sizes n1 and n2. If the observations in one population tended to be larger, the rank sum in its sample is larger than the expected rank sum.\n",
    "\n",
    "- $H_0$: The population distributions for the X’s and Y ’s are identical.\n",
    "- $H_a$: \n",
    "    - The two population distributions differ in location (two-tailed),\n",
    "    - The population relative frequency distribution for the X’s is shifted to the right/left of that for the Y ’s (one-tailed)."
   ]
  },
  {
   "cell_type": "code",
   "execution_count": 81,
   "id": "f3b0b68c",
   "metadata": {},
   "outputs": [
    {
     "data": {
      "text/html": [
       "<div>\n",
       "<style scoped>\n",
       "    .dataframe tbody tr th:only-of-type {\n",
       "        vertical-align: middle;\n",
       "    }\n",
       "\n",
       "    .dataframe tbody tr th {\n",
       "        vertical-align: top;\n",
       "    }\n",
       "\n",
       "    .dataframe thead th {\n",
       "        text-align: right;\n",
       "    }\n",
       "</style>\n",
       "<table border=\"1\" class=\"dataframe\">\n",
       "  <thead>\n",
       "    <tr style=\"text-align: right;\">\n",
       "      <th></th>\n",
       "      <th>U-val</th>\n",
       "      <th>tail</th>\n",
       "      <th>p-val</th>\n",
       "      <th>RBC</th>\n",
       "      <th>CLES</th>\n",
       "    </tr>\n",
       "  </thead>\n",
       "  <tbody>\n",
       "    <tr>\n",
       "      <th>MWU</th>\n",
       "      <td>168.5</td>\n",
       "      <td>two-sided</td>\n",
       "      <td>8.345827e-14</td>\n",
       "      <td>0.8652</td>\n",
       "      <td>0.0674</td>\n",
       "    </tr>\n",
       "  </tbody>\n",
       "</table>\n",
       "</div>"
      ],
      "text/plain": [
       "     U-val       tail         p-val     RBC    CLES\n",
       "MWU  168.5  two-sided  8.345827e-14  0.8652  0.0674"
      ]
     },
     "execution_count": 81,
     "metadata": {},
     "output_type": "execute_result"
    }
   ],
   "source": [
    "pg.mwu(\n",
    "    x=df.loc[df['Species']=='setosa','Sepal.Length'], \n",
    "    y=df.loc[df['Species']=='versicolor','Sepal.Length'],\n",
    "    tail='two-sided'\n",
    ")"
   ]
  }
 ],
 "metadata": {
  "kernelspec": {
   "display_name": "Python 3",
   "language": "python",
   "name": "python3"
  },
  "language_info": {
   "codemirror_mode": {
    "name": "ipython",
    "version": 3
   },
   "file_extension": ".py",
   "mimetype": "text/x-python",
   "name": "python",
   "nbconvert_exporter": "python",
   "pygments_lexer": "ipython3",
   "version": "3.8.8"
  },
  "toc": {
   "base_numbering": 1,
   "nav_menu": {},
   "number_sections": true,
   "sideBar": true,
   "skip_h1_title": false,
   "title_cell": "Table of Contents",
   "title_sidebar": "Contents",
   "toc_cell": false,
   "toc_position": {},
   "toc_section_display": true,
   "toc_window_display": true
  }
 },
 "nbformat": 4,
 "nbformat_minor": 5
}
